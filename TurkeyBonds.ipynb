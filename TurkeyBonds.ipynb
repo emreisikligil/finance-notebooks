{
  "nbformat": 4,
  "nbformat_minor": 0,
  "metadata": {
    "colab": {
      "name": "TurkeyBonds.ipynb",
      "provenance": [],
      "collapsed_sections": []
    },
    "kernelspec": {
      "name": "python3",
      "display_name": "Python 3"
    }
  },
  "cells": [
    {
      "cell_type": "markdown",
      "metadata": {
        "id": "WbcGuuIlW_95"
      },
      "source": [
        "# Analysis of Turkish Government's Bonds\n",
        "\n",
        "This notebook is written to quickly analyse YTM (yield to maturity), and CY (current yield) of Turkish Government's long term bonds. Prices are fetched from Luxemburg Stock Exchange. Prices may differ in your local broker.\n",
        "\n",
        "When calculating YTM it is assumed that:\n",
        "* bonds are hold until maturity date,\n",
        "* every coupon is reinvested in the same bond."
      ]
    },
    {
      "cell_type": "code",
      "metadata": {
        "id": "XtqJVMNBWoxd",
        "colab": {
          "base_uri": "https://localhost:8080/"
        },
        "outputId": "bae39eef-90ed-4e73-d2d9-71a0df115449"
      },
      "source": [
        "!pip install bond-pricing"
      ],
      "execution_count": null,
      "outputs": [
        {
          "output_type": "stream",
          "text": [
            "Collecting bond-pricing\n",
            "  Downloading https://files.pythonhosted.org/packages/f7/9f/2f920ba7624be2b11ba3e446b625c774f4fab0514c2f230b6cf418b33ddd/bond_pricing-0.6.3-py3-none-any.whl\n",
            "Requirement already satisfied: scipy in /usr/local/lib/python3.7/dist-packages (from bond-pricing) (1.4.1)\n",
            "Requirement already satisfied: pandas in /usr/local/lib/python3.7/dist-packages (from bond-pricing) (1.1.5)\n",
            "Requirement already satisfied: numpy in /usr/local/lib/python3.7/dist-packages (from bond-pricing) (1.19.5)\n",
            "Requirement already satisfied: python-dateutil>=2.7.3 in /usr/local/lib/python3.7/dist-packages (from pandas->bond-pricing) (2.8.1)\n",
            "Requirement already satisfied: pytz>=2017.2 in /usr/local/lib/python3.7/dist-packages (from pandas->bond-pricing) (2018.9)\n",
            "Requirement already satisfied: six>=1.5 in /usr/local/lib/python3.7/dist-packages (from python-dateutil>=2.7.3->pandas->bond-pricing) (1.15.0)\n",
            "Installing collected packages: bond-pricing\n",
            "Successfully installed bond-pricing-0.6.3\n"
          ],
          "name": "stdout"
        }
      ]
    },
    {
      "cell_type": "markdown",
      "metadata": {
        "id": "bSMqDMt34-53"
      },
      "source": [
        "Next thing is to fetch bond data along with the latest prices from [Luxembourg Stock Exchange](https://www.bourse.lu) and analyse the bonds."
      ]
    },
    {
      "cell_type": "code",
      "metadata": {
        "id": "hfQsVKF83Bxb",
        "colab": {
          "base_uri": "https://localhost:8080/"
        },
        "outputId": "05e09fe9-c6d0-443c-add9-0a1c4356ccb7"
      },
      "source": [
        "from bond_pricing.simple_bonds import bond_price_breakup, bond_yield\n",
        "from datetime import date, datetime\n",
        "import requests\n",
        "from prettytable import PrettyTable\n",
        "\n",
        "r = requests.get(\"https://www.bourse.lu/api/issuer/securities/26760\")\n",
        "r.raise_for_status()\n",
        "body = r.json()\n",
        "table = PrettyTable(\n",
        "    [\n",
        "        \"ISIN\",\n",
        "        \"Currency\",\n",
        "        \"Rate\",\n",
        "        \"Maturity\",\n",
        "        \"Price\",\n",
        "        \"Accrued Interest\",\n",
        "        \"Dirty Price\",\n",
        "        \"Next Coupon\",\n",
        "        \"YTM\",\n",
        "        \"Current Yield\",\n",
        "    ]\n",
        ")\n",
        "today = date.today()\n",
        "print(f\"Updated on {today}\")\n",
        "for s in body[\"list\"]:\n",
        "    freq = 2 if s[\"currency\"] == \"USD\" else 1\n",
        "    rate = float(s[\"name\"].split()[1][0:-1].replace(\",\", \".\")) / 100.0\n",
        "    coupon = 100.0 * rate\n",
        "    maturity = date.fromtimestamp(s[\"finalMaturityDate\"] / 1000 + 3600)\n",
        "    price = s[\"pricesSummary\"][\"latestPrice\"][\"amount\"]\n",
        "    prices = bond_price_breakup(settle=today, cpn=rate, mat=maturity, freq=freq)\n",
        "    ytm = bond_yield(\n",
        "        settle=today, cpn=rate, mat=maturity, price=price, freq=freq, guess=0.05\n",
        "    )\n",
        "    table.add_row(\n",
        "        [\n",
        "            s[\"isinCode\"],\n",
        "            s[\"currency\"],\n",
        "            round(rate * 100, 3),\n",
        "            maturity,\n",
        "            price,\n",
        "            round(prices[\"AccruedInterest\"], 3),\n",
        "            round(price + prices[\"AccruedInterest\"], 3),\n",
        "            prices[\"NextCoupon\"].date(),\n",
        "            round(ytm * 100, 3),\n",
        "            round(coupon * 100 / price, 3),\n",
        "        ]\n",
        "    )\n",
        "\n",
        "print(table.get_string(sortby=\"YTM\"))\n"
      ],
      "execution_count": null,
      "outputs": [
        {
          "output_type": "stream",
          "text": [
            "/usr/local/lib/python3.7/dist-packages/bond_pricing/simple_bonds.py:528: UserWarning: Module isda_daycounters is not installed.\n",
            "Only 'simple' daycount (basically ACT/365) is available.\n",
            "To use other daycounts, install isda_daycounters from\n",
            "https://github.com/miradulo/isda_daycounters\n",
            "  warn(\"Module isda_daycounters is not installed.\\n\"\n"
          ],
          "name": "stderr"
        },
        {
          "output_type": "stream",
          "text": [
            "Updated on 2021-03-27\n",
            "+--------------+----------+--------+------------+---------+------------------+-------------+-------------+--------+---------------+\n",
            "|     ISIN     | Currency |  Rate  |  Maturity  |  Price  | Accrued Interest | Dirty Price | Next Coupon |  YTM   | Current Yield |\n",
            "+--------------+----------+--------+------------+---------+------------------+-------------+-------------+--------+---------------+\n",
            "| US900123BH29 |   USD    | 5.625  | 2021-03-29 | 100.082 |      2.759       |   102.841   |  2021-03-29 | -2.826 |      5.62     |\n",
            "| US900123CN87 |   EUR    |  3.25  | 2025-06-13 | 100.553 |      2.555       |   103.108   |  2021-06-13 | 3.106  |     3.232     |\n",
            "| XS0993155398 |   EUR    |  4.35  | 2021-11-12 | 100.692 |      1.609       |   102.301   |  2021-11-12 | 3.197  |      4.32     |\n",
            "| XS1057340009 |   EUR    | 4.125  | 2023-04-10 | 100.195 |      3.967       |   104.162   |  2021-04-10 | 4.022  |     4.117     |\n",
            "| US900123BY51 |   USD    | 5.125  | 2022-03-25 | 100.576 |      0.028       |   100.604   |  2021-09-25 | 4.526  |     5.096     |\n",
            "| XS1843443356 |   EUR    | 4.625  | 2025-03-30 | 100.328 |      4.587       |   104.915   |  2021-03-30 | 4.533  |      4.61     |\n",
            "| XS1909184753 |   EUR    |  5.2   | 2026-02-16 |  100.72 |      0.556       |   101.276   |  2022-02-16 | 5.028  |     5.163     |\n",
            "| US900123BZ27 |   USD    |  6.25  | 2022-09-25 | 101.645 |      0.034       |   101.679   |  2021-09-25 | 5.093  |     6.149     |\n",
            "| US900123CA66 |   USD    |  3.25  | 2023-03-23 |  96.476 |      0.036       |    96.512   |  2021-09-23 | 5.136  |     3.369     |\n",
            "| US900123CR91 |   USD    |  7.25  | 2023-12-23 | 103.637 |      1.867       |   105.504   |  2021-06-23 | 5.791  |     6.996     |\n",
            "| US900123CF53 |   USD    |  5.75  | 2024-03-22 |  99.525 |      0.079       |    99.604   |  2021-09-22 | 5.925  |     5.777     |\n",
            "| US900123CV04 |   USD    |  6.35  | 2024-08-09 | 100.781 |       0.8        |   101.581   |  2021-08-09 | 6.087  |     6.301     |\n",
            "| US900123CW86 |   USD    |  5.6   | 2024-11-14 |  98.342 |      2.041       |   100.383   |  2021-05-14 | 6.113  |     5.694     |\n",
            "| US900123CX69 |   USD    |  4.25  | 2025-03-13 |  93.451 |      0.163       |    93.614   |  2021-09-13 | 6.137  |     4.548     |\n",
            "| US900123CJ75 |   USD    |  4.25  | 2026-04-13 |  91.461 |      1.921       |    93.382   |  2021-04-13 | 6.248  |     4.647     |\n",
            "| US900123AW05 |   USD    | 7.375  | 2025-02-05 | 103.756 |       1.01       |   104.766   |  2021-08-05 | 6.262  |     7.108     |\n",
            "| US900123DB31 |   USD    |  4.75  | 2026-01-26 |  93.465 |      0.781       |    94.246   |  2021-07-26 | 6.338  |     5.082     |\n",
            "| US900123CK49 |   USD    | 4.875  | 2026-10-08 |  92.987 |      2.271       |    95.258   |  2021-04-08 | 6.399  |     5.243     |\n",
            "| US900123CZ18 |   USD    | 6.375  | 2025-10-13 |  99.523 |      2.882       |   102.405   |  2021-04-13 | 6.497  |     6.406     |\n",
            "| US900123CL22 |   USD    |  6.0   | 2027-03-25 |  96.489 |      0.033       |    96.522   |  2021-09-25 | 6.721  |     6.218     |\n",
            "| US900123CP36 |   USD    | 5.125  | 2028-02-17 |  91.13  |      0.534       |    91.664   |  2021-08-17 | 6.754  |     5.624     |\n",
            "| US900123CY43 |   USD    |  5.25  | 2030-03-13 |  89.019 |      0.201       |    89.22    |  2021-09-13 | 6.914  |     5.898     |\n",
            "| US900123CQ19 |   USD    | 6.125  | 2028-10-23 |  95.232 |      2.601       |    97.833   |  2021-04-23 | 6.944  |     6.432     |\n",
            "| US900123CB40 |   USD    | 4.875  | 2043-04-15 |  76.452 |      2.177       |    78.629   |  2021-04-15 | 6.983  |     6.377     |\n",
            "| US900123DC14 |   USD    | 5.875  | 2031-06-25 |  91.278 |      1.481       |    92.759   |  2021-06-25 | 7.085  |     6.436     |\n",
            "| US900123CT57 |   USD    | 7.625  | 2029-04-25 | 103.221 |      3.196       |   106.417   |  2021-04-25 | 7.093  |     7.387     |\n",
            "| US900123AL40 |   USD    | 11.875 | 2030-01-15 | 130.773 |       2.31       |   133.083   |  2021-07-15 | 7.109  |     9.081     |\n",
            "| US900123DA57 |   USD    |  5.95  | 2031-01-15 |  91.66  |      1.157       |    92.817   |  2021-07-15 | 7.146  |     6.491     |\n",
            "| US900123BB58 |   USD    |  7.25  | 2038-03-05 |  99.649 |      0.437       |   100.086   |  2021-09-05 | 7.286  |     7.276     |\n",
            "| US900123AT75 |   USD    |  8.0   | 2034-02-14 | 105.637 |      0.899       |   106.536   |  2021-08-14 | 7.316  |     7.573     |\n",
            "| US900123CM05 |   USD    |  5.75  | 2047-05-10 |  81.068 |      2.158       |    83.226   |  2021-05-10 | 7.396  |     7.093     |\n",
            "| US900123AY60 |   USD    | 6.875  | 2036-03-17 |  94.897 |      0.188       |    95.085   |  2021-09-17 | 7.446  |     7.245     |\n",
            "| US900123BG46 |   USD    |  6.75  | 2040-05-29 |  92.459 |      2.182       |    94.641   |  2021-05-29 | 7.496  |     7.301     |\n",
            "| US900123CG37 |   USD    | 6.625  | 2045-02-17 |  90.271 |       0.69       |    90.961   |  2021-08-17 | 7.506  |     7.339     |\n",
            "| US900123BJ84 |   USD    |  6.0   | 2041-01-14 |  84.436 |      1.184       |    85.62    |  2021-07-14 | 7.523  |     7.106     |\n",
            "+--------------+----------+--------+------------+---------+------------------+-------------+-------------+--------+---------------+\n"
          ],
          "name": "stdout"
        }
      ]
    }
  ]
}